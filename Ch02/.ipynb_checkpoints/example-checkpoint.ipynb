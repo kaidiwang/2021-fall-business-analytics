{
 "cells": [
  {
   "cell_type": "code",
   "execution_count": 8,
   "metadata": {},
   "outputs": [],
   "source": [
    "import pandas as pd\n",
    "import numpy as np\n",
    "from matplotlib import pyplot as plt\n"
   ]
  },
  {
   "cell_type": "code",
   "execution_count": 9,
   "metadata": {},
   "outputs": [
    {
     "name": "stdout",
     "output_type": "stream",
     "text": [
      "my id is234\n"
     ]
    }
   ],
   "source": [
    "a = '234'\n",
    "print('my id is' + a)"
   ]
  },
  {
   "cell_type": "code",
   "execution_count": 10,
   "metadata": {},
   "outputs": [
    {
     "data": {
      "text/html": [
       "<div>\n",
       "<style scoped>\n",
       "    .dataframe tbody tr th:only-of-type {\n",
       "        vertical-align: middle;\n",
       "    }\n",
       "\n",
       "    .dataframe tbody tr th {\n",
       "        vertical-align: top;\n",
       "    }\n",
       "\n",
       "    .dataframe thead th {\n",
       "        text-align: right;\n",
       "    }\n",
       "</style>\n",
       "<table border=\"1\" class=\"dataframe\">\n",
       "  <thead>\n",
       "    <tr style=\"text-align: right;\">\n",
       "      <th></th>\n",
       "      <th>ID Number</th>\n",
       "      <th>Position on Automobile</th>\n",
       "      <th>Life of Tire (Months)</th>\n",
       "      <th>Tread Depth</th>\n",
       "      <th>Miles</th>\n",
       "    </tr>\n",
       "  </thead>\n",
       "  <tbody>\n",
       "    <tr>\n",
       "      <th>0</th>\n",
       "      <td>13391487</td>\n",
       "      <td>LR</td>\n",
       "      <td>58.4</td>\n",
       "      <td>2.2</td>\n",
       "      <td>2805.0</td>\n",
       "    </tr>\n",
       "    <tr>\n",
       "      <th>1</th>\n",
       "      <td>21678308</td>\n",
       "      <td>LR</td>\n",
       "      <td>17.3</td>\n",
       "      <td>8.3</td>\n",
       "      <td>39371.0</td>\n",
       "    </tr>\n",
       "    <tr>\n",
       "      <th>2</th>\n",
       "      <td>18414311</td>\n",
       "      <td>RR</td>\n",
       "      <td>16.5</td>\n",
       "      <td>8.6</td>\n",
       "      <td>13367.0</td>\n",
       "    </tr>\n",
       "    <tr>\n",
       "      <th>3</th>\n",
       "      <td>19778103</td>\n",
       "      <td>RR</td>\n",
       "      <td>8.2</td>\n",
       "      <td>9.8</td>\n",
       "      <td>1931.0</td>\n",
       "    </tr>\n",
       "    <tr>\n",
       "      <th>4</th>\n",
       "      <td>16355454</td>\n",
       "      <td>RR</td>\n",
       "      <td>13.7</td>\n",
       "      <td>8.9</td>\n",
       "      <td>23992.0</td>\n",
       "    </tr>\n",
       "    <tr>\n",
       "      <th>...</th>\n",
       "      <td>...</td>\n",
       "      <td>...</td>\n",
       "      <td>...</td>\n",
       "      <td>...</td>\n",
       "      <td>...</td>\n",
       "    </tr>\n",
       "    <tr>\n",
       "      <th>451</th>\n",
       "      <td>17221343</td>\n",
       "      <td>LR</td>\n",
       "      <td>19.7</td>\n",
       "      <td>8.1</td>\n",
       "      <td>19572.0</td>\n",
       "    </tr>\n",
       "    <tr>\n",
       "      <th>452</th>\n",
       "      <td>9857663</td>\n",
       "      <td>LF</td>\n",
       "      <td>21.6</td>\n",
       "      <td>7.1</td>\n",
       "      <td>5293.0</td>\n",
       "    </tr>\n",
       "    <tr>\n",
       "      <th>453</th>\n",
       "      <td>2122934</td>\n",
       "      <td>LF</td>\n",
       "      <td>11.1</td>\n",
       "      <td>9.3</td>\n",
       "      <td>21000.0</td>\n",
       "    </tr>\n",
       "    <tr>\n",
       "      <th>454</th>\n",
       "      <td>9937888</td>\n",
       "      <td>LR</td>\n",
       "      <td>30.4</td>\n",
       "      <td>6.5</td>\n",
       "      <td>57032.0</td>\n",
       "    </tr>\n",
       "    <tr>\n",
       "      <th>455</th>\n",
       "      <td>6779970</td>\n",
       "      <td>RR</td>\n",
       "      <td>20.1</td>\n",
       "      <td>7.9</td>\n",
       "      <td>17091.0</td>\n",
       "    </tr>\n",
       "  </tbody>\n",
       "</table>\n",
       "<p>456 rows × 5 columns</p>\n",
       "</div>"
      ],
      "text/plain": [
       "     ID Number Position on Automobile  Life of Tire (Months)  Tread Depth  \\\n",
       "0     13391487                     LR                   58.4          2.2   \n",
       "1     21678308                     LR                   17.3          8.3   \n",
       "2     18414311                     RR                   16.5          8.6   \n",
       "3     19778103                     RR                    8.2          9.8   \n",
       "4     16355454                     RR                   13.7          8.9   \n",
       "..         ...                    ...                    ...          ...   \n",
       "451   17221343                     LR                   19.7          8.1   \n",
       "452    9857663                     LF                   21.6          7.1   \n",
       "453    2122934                     LF                   11.1          9.3   \n",
       "454    9937888                     LR                   30.4          6.5   \n",
       "455    6779970                     RR                   20.1          7.9   \n",
       "\n",
       "       Miles  \n",
       "0     2805.0  \n",
       "1    39371.0  \n",
       "2    13367.0  \n",
       "3     1931.0  \n",
       "4    23992.0  \n",
       "..       ...  \n",
       "451  19572.0  \n",
       "452   5293.0  \n",
       "453  21000.0  \n",
       "454  57032.0  \n",
       "455  17091.0  \n",
       "\n",
       "[456 rows x 5 columns]"
      ]
     },
     "execution_count": 10,
     "metadata": {},
     "output_type": "execute_result"
    }
   ],
   "source": [
    "# load data\n",
    "df_tire = pd.read_csv('Ch02 treadwear2.csv',\n",
    "                      usecols = ['ID Number', 'Position on Automobile', \n",
    "                                 'Life of Tire (Months)', 'Tread Depth', 'Miles'])\n",
    "# drop the rows with all Nan values\n",
    "df_tire.dropna(how = 'all', inplace = True)\n",
    "df_tire"
   ]
  },
  {
   "cell_type": "code",
   "execution_count": 12,
   "metadata": {},
   "outputs": [
    {
     "data": {
      "text/plain": [
       "pandas.core.series.Series"
      ]
     },
     "execution_count": 12,
     "metadata": {},
     "output_type": "execute_result"
    }
   ],
   "source": [
    "type(df_tire.loc[[451,452], ['Miles']])"
   ]
  },
  {
   "cell_type": "code",
   "execution_count": 11,
   "metadata": {},
   "outputs": [
    {
     "name": "stdout",
     "output_type": "stream",
     "text": [
      "30.4\n",
      "10.3\n"
     ]
    },
    {
     "data": {
      "text/plain": [
       "array([ 1.08933548, -0.20323485, -0.22839437, -0.48942438, -0.31645269,\n",
       "        0.91321884, -0.28500329, -0.55232318,  1.14279946, -0.37935149,\n",
       "       -0.40451101, -0.50514908, -0.20952473, -0.50514908,  1.42269911,\n",
       "       -0.13404617, -0.05856761, -0.49256932,  0.02005589,  0.06722999,\n",
       "       -0.18751015,  0.25592639, -0.32903245, -0.07743725, -0.16864051,\n",
       "       -0.34161221, -0.69070054, -0.20952473,  0.66791352,  0.25592639,\n",
       "       -0.41709077, -0.42338065, -0.50514908, -0.28500329, -0.43281547,\n",
       "       -0.25984377, -0.32903245,  1.42269911, -0.66239608, -0.6089321 ,\n",
       "       -0.09001701, -0.42338065,  0.41946326, -0.35733691, -0.59006246,\n",
       "        0.16786807,  0.6899281 , -0.6403815 , -0.42338065, -0.19380003,\n",
       "        0.20246241, -0.66239608, -0.6089321 , -0.43910535, -0.38249643,\n",
       "        0.02005589,  0.02005589, -0.68126572, -0.34161221, -0.36677173,\n",
       "        0.19931747, -0.61522198, -0.47684463, -0.59006246, -0.31645269,\n",
       "       -0.21895955, -0.62780174, -0.39193125,  0.49808676, -0.24097413,\n",
       "        0.41946326,  0.06722999, -0.55546812, -0.30072799, -0.48942438,\n",
       "        0.46034748, -0.40451101, -0.31645269,  1.55793153,  0.49808676,\n",
       "       -0.47684463, -0.62780174, -0.06800243,  0.42889808, -0.50514908,\n",
       "       -0.20323485,  0.50752158, -0.12775629,  0.17101301, -0.55232318,\n",
       "       -0.26298871, -0.47684463, -0.43281547, -0.39822113, -0.59006246,\n",
       "        0.68049328, -0.36362679,  0.11440409, -0.52716366, -0.07743725,\n",
       "       -0.6403815 ,  0.10811421, -0.52401872, -0.30072799, -0.50514908,\n",
       "        0.46034748, -0.39193125, -0.25984377,  0.22133205, -0.50514908,\n",
       "       -0.27556847, -0.26298871,  0.20246241,  0.27479603,  0.49808676,\n",
       "       -0.13404617, -0.43281547,  0.68049328, -0.60264222, -0.45797499,\n",
       "       -0.39193125, -0.30072799, -0.61522198, -0.37935149,  0.34083977,\n",
       "       -0.59949728,  0.16786807,  0.25907133,  0.22133205, -0.27871341,\n",
       "        0.91321884, -0.37935149, -0.07743725, -0.07429231, -0.13404617,\n",
       "       -0.52401872,  1.26859705,  1.08933548, -0.50514908, -0.43596041,\n",
       "        0.8628998 , -0.49256932, -0.43596041,  0.99498728,  0.16786807,\n",
       "       -0.27871341, -0.16864051,  0.22133205,  0.05779517, -0.59949728,\n",
       "       -0.14348099, -0.55546812,  0.6899281 , -0.6089321 ,  1.01385692,\n",
       "       -0.60264222, -0.50514908,  1.34407561,  0.99498728, -0.09001701,\n",
       "       -0.14977087, -0.14977087,  0.42889808, -0.07114737, -0.43281547,\n",
       "       -0.44225029,  0.20875229,  1.14279946, -0.43281547, -0.39822113,\n",
       "       -0.14348099,  0.06722999, -0.05856761, -0.47684463,  0.17415795,\n",
       "        0.17415795,  0.18359277, -0.52716366, -0.07429231,  0.66791352,\n",
       "       -0.61522198, -0.22839437, -0.66239608,  0.05779517, -0.43281547,\n",
       "       -0.27556847, -0.32903245,  1.55793153, -0.68126572, -0.5932074 ,\n",
       "        0.22133205, -0.35733691,  0.20246241, -0.60264222, -0.28500329,\n",
       "       -0.25984377, -0.32903245,  0.6899281 , -0.22839437, -0.25355389,\n",
       "        0.42889808, -0.38249643,  0.10811421, -0.07114737,  0.63017424,\n",
       "        1.42269911,  0.24020169, -0.34161221, -0.35733691, -0.27556847,\n",
       "       -0.07114737, -0.20323485, -0.19380003,  0.41946326, -0.20952473,\n",
       "       -0.31645269,  0.14585349,  0.69936292,  0.07666481,  0.34083977,\n",
       "       -0.14348099,  0.63017424, -0.42338065,  1.34407561, -0.30072799,\n",
       "       -0.07114737,  0.17415795, -0.13404617, -0.19380003,  0.6899281 ,\n",
       "       -0.62780174, -0.05856761,  0.91321884,  0.07666481,  0.24020169,\n",
       "        0.8628998 , -0.31645269, -0.36677173,  0.19931747, -0.27556847,\n",
       "       -0.51772884, -0.40451101,  0.16786807,  0.11440409, -0.11517653,\n",
       "       -0.35733691,  1.08933548, -0.50514908, -0.47684463,  0.48236206,\n",
       "        0.24649157,  0.69936292,  0.11440409, -0.42338065,  0.14585349,\n",
       "       -0.36362679,  0.41946326,  0.69936292, -0.26298871, -0.50514908,\n",
       "       -0.42338065,  0.20875229,  0.91321884,  1.34407561,  0.42889808,\n",
       "       -0.21895955,  0.49808676,  0.19931747, -0.25355389,  0.20246241,\n",
       "       -0.38249643,  1.01385692, -0.27556847,  0.25592639, -0.20952473,\n",
       "       -0.37935149, -0.07429231, -0.06800243,  0.10811421, -0.14348099,\n",
       "        0.24020169, -0.55546812,  0.25907133, -0.11517653, -0.5303086 ,\n",
       "        0.17101301, -0.05856761, -0.36677173, -0.31645269, -0.39193125,\n",
       "        0.17101301, -0.44225029,  1.42269911, -0.6403815 ,  0.46034748,\n",
       "       -0.43281547, -0.36362679, -0.49256932,  0.13012879, -0.52401872,\n",
       "        0.48236206,  0.17101301,  0.66791352,  0.14585349, -0.27556847,\n",
       "       -0.34161221, -0.36677173,  0.34083977, -0.34161221, -0.47684463,\n",
       "        0.20875229,  0.68049328, -0.31645269, -0.06800243, -0.27871341,\n",
       "       -0.60264222, -0.47684463, -0.59006246,  1.26859705, -0.52401872,\n",
       "       -0.14977087,  0.24649157,  1.01385692, -0.25984377,  0.20246241,\n",
       "       -0.43910535, -0.20323485, -0.43910535,  0.07666481, -0.40451101,\n",
       "        0.50752158, -0.55232318, -0.34161221, -0.43910535, -0.62780174,\n",
       "       -0.5303086 ,  0.63017424, -0.14977087,  2.7435739 , -0.26298871,\n",
       "       -0.36362679, -0.25355389, -0.09001701, -0.43596041, -0.52716366,\n",
       "        0.99498728, -0.66239608,  0.68049328, -0.52716366,  0.66791352,\n",
       "       -0.20952473, -0.42338065,  0.13012879, -0.47684463, -0.59949728,\n",
       "        1.26859705,  0.50752158, -0.69070054, -0.07743725, -0.19380003,\n",
       "       -0.34161221,  0.24649157, -0.32903245,  0.48236206, -0.59949728,\n",
       "       -0.16864051,  0.05779517, -0.68126572, -0.24097413, -0.41709077,\n",
       "        0.25907133, -0.55546812,  0.27479603, -0.5303086 ,  0.8628998 ,\n",
       "       -0.26298871, -0.21895955,  1.34407561, -0.50514908, -0.24097413,\n",
       "       -0.49256932, -0.14348099,  0.02005589,  0.10811421, -0.50514908,\n",
       "        0.8628998 , -0.48942438, -0.6403815 , -0.27871341,  1.01385692,\n",
       "       -0.34161221,  0.14585349, -0.43596041, -0.16864051, -0.27556847,\n",
       "        0.24649157, -0.20323485, -0.41709077, -0.51772884,  1.55793153,\n",
       "       -0.20323485, -0.55232318,  0.34083977,  0.27479603, -0.6089321 ,\n",
       "       -0.31645269, -0.38249643,  1.08933548, -0.12775629,  0.17415795,\n",
       "       -0.26298871, -0.43281547, -0.21895955,  1.55793153, -0.69070054,\n",
       "        0.19931747, -0.11517653,  0.07666481, -0.68126572, -0.17807533,\n",
       "        0.13012879,  0.69936292, -0.41709077, -0.44225029, -0.12775629,\n",
       "        0.25907133,  0.6584787 ,  0.06722999, -0.44225029, -0.27556847,\n",
       "       -0.48942438, -0.51772884,  1.14279946, -0.42338065,  1.26859705,\n",
       "       -0.25355389, -0.51772884, -0.20323485, -0.61522198,  0.25592639,\n",
       "       -0.24097413,  0.99498728,  0.48236206, -0.26298871, -0.22839437,\n",
       "        0.05779517, 18.15377972, -0.26298871, -0.20323485,  0.63017424,\n",
       "        0.50752158, -0.12775629, -0.06800243, -0.39822113,  0.20875229,\n",
       "       -0.11517653])"
      ]
     },
     "execution_count": 11,
     "metadata": {},
     "output_type": "execute_result"
    }
   ],
   "source": [
    "# impute the 75th percentile of the Life of Tire (Months)\n",
    "pct = np.percentile(df_tire['Life of Tire (Months)'], 75)\n",
    "print(pct)\n",
    "\n",
    "# impute the 1st quartile of the Life of Tire (Months)\n",
    "qtl = np.percentile(df_tire['Life of Tire (Months)'], 25)\n",
    "print(qtl)\n",
    "\n",
    "# impute the zscore\n",
    "from scipy import stats\n",
    "stats.zscore(df_tire['Life of Tire (Months)'])"
   ]
  },
  {
   "cell_type": "code",
   "execution_count": 18,
   "metadata": {},
   "outputs": [
    {
     "data": {
      "text/plain": [
       "<matplotlib.axes._subplots.AxesSubplot at 0x145d2a950>"
      ]
     },
     "execution_count": 18,
     "metadata": {},
     "output_type": "execute_result"
    },
    {
     "data": {
      "image/png": "[encoded data removed]",
      "text/plain": [
       "<Figure size 432x288 with 1 Axes>"
      ]
     },
     "metadata": {
      "needs_background": "light"
     },
     "output_type": "display_data"
    }
   ],
   "source": [
    "# plot boxplot\n",
    "# df_tire.loc[:, 'Miles'].boxplot()\n",
    "df_tire.boxplot(column = ['Life of Tire (Months)', 'Tread Depth'])\n",
    "# plt.boxplot(df_tire['Tread Depth'])"
   ]
  },
  {
   "cell_type": "markdown",
   "metadata": {},
   "source": [
    "# Fill missing values in Blakely Tire data"
   ]
  },
  {
   "cell_type": "code",
   "execution_count": 19,
   "metadata": {},
   "outputs": [
    {
     "data": {
      "text/html": [
       "<div>\n",
       "<style scoped>\n",
       "    .dataframe tbody tr th:only-of-type {\n",
       "        vertical-align: middle;\n",
       "    }\n",
       "\n",
       "    .dataframe tbody tr th {\n",
       "        vertical-align: top;\n",
       "    }\n",
       "\n",
       "    .dataframe thead th {\n",
       "        text-align: right;\n",
       "    }\n",
       "</style>\n",
       "<table border=\"1\" class=\"dataframe\">\n",
       "  <thead>\n",
       "    <tr style=\"text-align: right;\">\n",
       "      <th></th>\n",
       "      <th>ID Number</th>\n",
       "      <th>Position on Automobile</th>\n",
       "      <th>Life of Tire (Months)</th>\n",
       "      <th>Tread Depth</th>\n",
       "      <th>Miles</th>\n",
       "    </tr>\n",
       "  </thead>\n",
       "  <tbody>\n",
       "    <tr>\n",
       "      <th>0</th>\n",
       "      <td>13391487</td>\n",
       "      <td>LR</td>\n",
       "      <td>58.4</td>\n",
       "      <td>2.2</td>\n",
       "      <td>2805.0</td>\n",
       "    </tr>\n",
       "    <tr>\n",
       "      <th>1</th>\n",
       "      <td>21678308</td>\n",
       "      <td>LR</td>\n",
       "      <td>17.3</td>\n",
       "      <td>8.3</td>\n",
       "      <td>39371.0</td>\n",
       "    </tr>\n",
       "    <tr>\n",
       "      <th>2</th>\n",
       "      <td>18414311</td>\n",
       "      <td>RR</td>\n",
       "      <td>16.5</td>\n",
       "      <td>8.6</td>\n",
       "      <td>13367.0</td>\n",
       "    </tr>\n",
       "    <tr>\n",
       "      <th>3</th>\n",
       "      <td>19778103</td>\n",
       "      <td>RR</td>\n",
       "      <td>8.2</td>\n",
       "      <td>9.8</td>\n",
       "      <td>1931.0</td>\n",
       "    </tr>\n",
       "    <tr>\n",
       "      <th>4</th>\n",
       "      <td>16355454</td>\n",
       "      <td>RR</td>\n",
       "      <td>13.7</td>\n",
       "      <td>8.9</td>\n",
       "      <td>23992.0</td>\n",
       "    </tr>\n",
       "    <tr>\n",
       "      <th>...</th>\n",
       "      <td>...</td>\n",
       "      <td>...</td>\n",
       "      <td>...</td>\n",
       "      <td>...</td>\n",
       "      <td>...</td>\n",
       "    </tr>\n",
       "    <tr>\n",
       "      <th>451</th>\n",
       "      <td>17221343</td>\n",
       "      <td>LR</td>\n",
       "      <td>19.7</td>\n",
       "      <td>8.1</td>\n",
       "      <td>19572.0</td>\n",
       "    </tr>\n",
       "    <tr>\n",
       "      <th>452</th>\n",
       "      <td>9857663</td>\n",
       "      <td>LF</td>\n",
       "      <td>21.6</td>\n",
       "      <td>7.1</td>\n",
       "      <td>5293.0</td>\n",
       "    </tr>\n",
       "    <tr>\n",
       "      <th>453</th>\n",
       "      <td>2122934</td>\n",
       "      <td>LF</td>\n",
       "      <td>11.1</td>\n",
       "      <td>9.3</td>\n",
       "      <td>21000.0</td>\n",
       "    </tr>\n",
       "    <tr>\n",
       "      <th>454</th>\n",
       "      <td>9937888</td>\n",
       "      <td>LR</td>\n",
       "      <td>30.4</td>\n",
       "      <td>6.5</td>\n",
       "      <td>57032.0</td>\n",
       "    </tr>\n",
       "    <tr>\n",
       "      <th>455</th>\n",
       "      <td>6779970</td>\n",
       "      <td>RR</td>\n",
       "      <td>20.1</td>\n",
       "      <td>7.9</td>\n",
       "      <td>17091.0</td>\n",
       "    </tr>\n",
       "  </tbody>\n",
       "</table>\n",
       "<p>456 rows × 5 columns</p>\n",
       "</div>"
      ],
      "text/plain": [
       "     ID Number Position on Automobile  Life of Tire (Months)  Tread Depth  \\\n",
       "0     13391487                     LR                   58.4          2.2   \n",
       "1     21678308                     LR                   17.3          8.3   \n",
       "2     18414311                     RR                   16.5          8.6   \n",
       "3     19778103                     RR                    8.2          9.8   \n",
       "4     16355454                     RR                   13.7          8.9   \n",
       "..         ...                    ...                    ...          ...   \n",
       "451   17221343                     LR                   19.7          8.1   \n",
       "452    9857663                     LF                   21.6          7.1   \n",
       "453    2122934                     LF                   11.1          9.3   \n",
       "454    9937888                     LR                   30.4          6.5   \n",
       "455    6779970                     RR                   20.1          7.9   \n",
       "\n",
       "       Miles  \n",
       "0     2805.0  \n",
       "1    39371.0  \n",
       "2    13367.0  \n",
       "3     1931.0  \n",
       "4    23992.0  \n",
       "..       ...  \n",
       "451  19572.0  \n",
       "452   5293.0  \n",
       "453  21000.0  \n",
       "454  57032.0  \n",
       "455  17091.0  \n",
       "\n",
       "[456 rows x 5 columns]"
      ]
     },
     "execution_count": 19,
     "metadata": {},
     "output_type": "execute_result"
    }
   ],
   "source": [
    "# load data\n",
    "df_tire = pd.read_csv('Ch02 treadwear2.csv',\n",
    "                      usecols = ['ID Number', 'Position on Automobile', \n",
    "                                 'Life of Tire (Months)', 'Tread Depth', 'Miles'])\n",
    "df_tire"
   ]
  },
  {
   "cell_type": "code",
   "execution_count": 17,
   "metadata": {},
   "outputs": [
    {
     "data": {
      "text/plain": [
       "ID Number                 0\n",
       "Position on Automobile    0\n",
       "Life of Tire (Months)     0\n",
       "Tread Depth               0\n",
       "Miles                     1\n",
       "dtype: int64"
      ]
     },
     "execution_count": 17,
     "metadata": {},
     "output_type": "execute_result"
    }
   ],
   "source": [
    "# get count of Nan values for each column\n",
    "df_tire.isnull().sum()"
   ]
  },
  {
   "cell_type": "code",
   "execution_count": 23,
   "metadata": {},
   "outputs": [
    {
     "data": {
      "text/html": [
       "<div>\n",
       "<style scoped>\n",
       "    .dataframe tbody tr th:only-of-type {\n",
       "        vertical-align: middle;\n",
       "    }\n",
       "\n",
       "    .dataframe tbody tr th {\n",
       "        vertical-align: top;\n",
       "    }\n",
       "\n",
       "    .dataframe thead th {\n",
       "        text-align: right;\n",
       "    }\n",
       "</style>\n",
       "<table border=\"1\" class=\"dataframe\">\n",
       "  <thead>\n",
       "    <tr style=\"text-align: right;\">\n",
       "      <th></th>\n",
       "      <th>ID Number</th>\n",
       "      <th>Position on Automobile</th>\n",
       "      <th>Life of Tire (Months)</th>\n",
       "      <th>Tread Depth</th>\n",
       "      <th>Miles</th>\n",
       "    </tr>\n",
       "  </thead>\n",
       "  <tbody>\n",
       "    <tr>\n",
       "      <th>0</th>\n",
       "      <td>13391487</td>\n",
       "      <td>LR</td>\n",
       "      <td>58.4</td>\n",
       "      <td>2.2</td>\n",
       "      <td>2805.0</td>\n",
       "    </tr>\n",
       "    <tr>\n",
       "      <th>1</th>\n",
       "      <td>21678308</td>\n",
       "      <td>LR</td>\n",
       "      <td>17.3</td>\n",
       "      <td>8.3</td>\n",
       "      <td>39371.0</td>\n",
       "    </tr>\n",
       "    <tr>\n",
       "      <th>2</th>\n",
       "      <td>18414311</td>\n",
       "      <td>RR</td>\n",
       "      <td>16.5</td>\n",
       "      <td>8.6</td>\n",
       "      <td>13367.0</td>\n",
       "    </tr>\n",
       "    <tr>\n",
       "      <th>3</th>\n",
       "      <td>19778103</td>\n",
       "      <td>RR</td>\n",
       "      <td>8.2</td>\n",
       "      <td>9.8</td>\n",
       "      <td>1931.0</td>\n",
       "    </tr>\n",
       "    <tr>\n",
       "      <th>4</th>\n",
       "      <td>16355454</td>\n",
       "      <td>RR</td>\n",
       "      <td>13.7</td>\n",
       "      <td>8.9</td>\n",
       "      <td>23992.0</td>\n",
       "    </tr>\n",
       "  </tbody>\n",
       "</table>\n",
       "</div>"
      ],
      "text/plain": [
       "   ID Number Position on Automobile  Life of Tire (Months)  Tread Depth  \\\n",
       "0   13391487                     LR                   58.4          2.2   \n",
       "1   21678308                     LR                   17.3          8.3   \n",
       "2   18414311                     RR                   16.5          8.6   \n",
       "3   19778103                     RR                    8.2          9.8   \n",
       "4   16355454                     RR                   13.7          8.9   \n",
       "\n",
       "     Miles  \n",
       "0   2805.0  \n",
       "1  39371.0  \n",
       "2  13367.0  \n",
       "3   1931.0  \n",
       "4  23992.0  "
      ]
     },
     "execution_count": 23,
     "metadata": {},
     "output_type": "execute_result"
    }
   ],
   "source": [
    "test = df_tire.iloc[:5, :]\n",
    "test"
   ]
  },
  {
   "cell_type": "code",
   "execution_count": 24,
   "metadata": {},
   "outputs": [
    {
     "data": {
      "text/html": [
       "<div>\n",
       "<style scoped>\n",
       "    .dataframe tbody tr th:only-of-type {\n",
       "        vertical-align: middle;\n",
       "    }\n",
       "\n",
       "    .dataframe tbody tr th {\n",
       "        vertical-align: top;\n",
       "    }\n",
       "\n",
       "    .dataframe thead th {\n",
       "        text-align: right;\n",
       "    }\n",
       "</style>\n",
       "<table border=\"1\" class=\"dataframe\">\n",
       "  <thead>\n",
       "    <tr style=\"text-align: right;\">\n",
       "      <th></th>\n",
       "      <th>ID Number</th>\n",
       "      <th>Position on Automobile</th>\n",
       "      <th>Life of Tire (Months)</th>\n",
       "      <th>Tread Depth</th>\n",
       "      <th>Miles</th>\n",
       "    </tr>\n",
       "  </thead>\n",
       "  <tbody>\n",
       "    <tr>\n",
       "      <th>m</th>\n",
       "      <td>13391487</td>\n",
       "      <td>LR</td>\n",
       "      <td>58.4</td>\n",
       "      <td>2.2</td>\n",
       "      <td>2805.0</td>\n",
       "    </tr>\n",
       "    <tr>\n",
       "      <th>n</th>\n",
       "      <td>21678308</td>\n",
       "      <td>LR</td>\n",
       "      <td>17.3</td>\n",
       "      <td>8.3</td>\n",
       "      <td>39371.0</td>\n",
       "    </tr>\n",
       "    <tr>\n",
       "      <th>p</th>\n",
       "      <td>18414311</td>\n",
       "      <td>RR</td>\n",
       "      <td>16.5</td>\n",
       "      <td>8.6</td>\n",
       "      <td>13367.0</td>\n",
       "    </tr>\n",
       "    <tr>\n",
       "      <th>q</th>\n",
       "      <td>19778103</td>\n",
       "      <td>RR</td>\n",
       "      <td>8.2</td>\n",
       "      <td>9.8</td>\n",
       "      <td>1931.0</td>\n",
       "    </tr>\n",
       "    <tr>\n",
       "      <th>r</th>\n",
       "      <td>16355454</td>\n",
       "      <td>RR</td>\n",
       "      <td>13.7</td>\n",
       "      <td>8.9</td>\n",
       "      <td>23992.0</td>\n",
       "    </tr>\n",
       "  </tbody>\n",
       "</table>\n",
       "</div>"
      ],
      "text/plain": [
       "   ID Number Position on Automobile  Life of Tire (Months)  Tread Depth  \\\n",
       "m   13391487                     LR                   58.4          2.2   \n",
       "n   21678308                     LR                   17.3          8.3   \n",
       "p   18414311                     RR                   16.5          8.6   \n",
       "q   19778103                     RR                    8.2          9.8   \n",
       "r   16355454                     RR                   13.7          8.9   \n",
       "\n",
       "     Miles  \n",
       "m   2805.0  \n",
       "n  39371.0  \n",
       "p  13367.0  \n",
       "q   1931.0  \n",
       "r  23992.0  "
      ]
     },
     "execution_count": 24,
     "metadata": {},
     "output_type": "execute_result"
    }
   ],
   "source": [
    "test.index = ['m', 'n', 'p', 'q', 'r']\n",
    "test"
   ]
  },
  {
   "cell_type": "code",
   "execution_count": null,
   "metadata": {},
   "outputs": [],
   "source": [
    "df.loc[index label, column label]\n",
    "df.iloc[index pos, column pos]"
   ]
  },
  {
   "cell_type": "code",
   "execution_count": 31,
   "metadata": {},
   "outputs": [
    {
     "data": {
      "text/plain": [
       "m    LR\n",
       "n    LR\n",
       "p    RR\n",
       "q    RR\n",
       "r    RR\n",
       "Name: Position on Automobile, dtype: object"
      ]
     },
     "execution_count": 31,
     "metadata": {},
     "output_type": "execute_result"
    }
   ],
   "source": [
    "test.loc[:, 'Position on Automobile']\n",
    "test.iloc[:, :]"
   ]
  },
  {
   "cell_type": "code",
   "execution_count": 34,
   "metadata": {},
   "outputs": [
    {
     "data": {
      "text/html": [
       "<div>\n",
       "<style scoped>\n",
       "    .dataframe tbody tr th:only-of-type {\n",
       "        vertical-align: middle;\n",
       "    }\n",
       "\n",
       "    .dataframe tbody tr th {\n",
       "        vertical-align: top;\n",
       "    }\n",
       "\n",
       "    .dataframe thead th {\n",
       "        text-align: right;\n",
       "    }\n",
       "</style>\n",
       "<table border=\"1\" class=\"dataframe\">\n",
       "  <thead>\n",
       "    <tr style=\"text-align: right;\">\n",
       "      <th></th>\n",
       "      <th>ID Number</th>\n",
       "      <th>Position on Automobile</th>\n",
       "      <th>Life of Tire (Months)</th>\n",
       "      <th>Tread Depth</th>\n",
       "      <th>Miles</th>\n",
       "    </tr>\n",
       "  </thead>\n",
       "  <tbody>\n",
       "    <tr>\n",
       "      <th>m</th>\n",
       "      <td>13391487</td>\n",
       "      <td>LR</td>\n",
       "      <td>58.4</td>\n",
       "      <td>2.2</td>\n",
       "      <td>2805.0</td>\n",
       "    </tr>\n",
       "    <tr>\n",
       "      <th>n</th>\n",
       "      <td>21678308</td>\n",
       "      <td>LR</td>\n",
       "      <td>17.3</td>\n",
       "      <td>8.3</td>\n",
       "      <td>39371.0</td>\n",
       "    </tr>\n",
       "    <tr>\n",
       "      <th>p</th>\n",
       "      <td>18414311</td>\n",
       "      <td>RR</td>\n",
       "      <td>16.5</td>\n",
       "      <td>8.6</td>\n",
       "      <td>13367.0</td>\n",
       "    </tr>\n",
       "    <tr>\n",
       "      <th>q</th>\n",
       "      <td>19778103</td>\n",
       "      <td>RR</td>\n",
       "      <td>8.2</td>\n",
       "      <td>9.8</td>\n",
       "      <td>1931.0</td>\n",
       "    </tr>\n",
       "    <tr>\n",
       "      <th>r</th>\n",
       "      <td>16355454</td>\n",
       "      <td>RR</td>\n",
       "      <td>13.7</td>\n",
       "      <td>8.9</td>\n",
       "      <td>23992.0</td>\n",
       "    </tr>\n",
       "  </tbody>\n",
       "</table>\n",
       "</div>"
      ],
      "text/plain": [
       "   ID Number Position on Automobile  Life of Tire (Months)  Tread Depth  \\\n",
       "m   13391487                     LR                   58.4          2.2   \n",
       "n   21678308                     LR                   17.3          8.3   \n",
       "p   18414311                     RR                   16.5          8.6   \n",
       "q   19778103                     RR                    8.2          9.8   \n",
       "r   16355454                     RR                   13.7          8.9   \n",
       "\n",
       "     Miles  \n",
       "m   2805.0  \n",
       "n  39371.0  \n",
       "p  13367.0  \n",
       "q   1931.0  \n",
       "r  23992.0  "
      ]
     },
     "execution_count": 34,
     "metadata": {},
     "output_type": "execute_result"
    }
   ],
   "source": [
    "test"
   ]
  },
  {
   "cell_type": "code",
   "execution_count": 48,
   "metadata": {},
   "outputs": [
    {
     "data": {
      "text/plain": [
       "m    False\n",
       "n    False\n",
       "p    False\n",
       "q     True\n",
       "r    False\n",
       "Name: Miles, dtype: bool"
      ]
     },
     "execution_count": 48,
     "metadata": {},
     "output_type": "execute_result"
    }
   ],
   "source": [
    "mask = (test['Miles'] > 100) & (test['Miles'] < 2000)\n",
    "\n",
    "mask"
   ]
  },
  {
   "cell_type": "code",
   "execution_count": 36,
   "metadata": {},
   "outputs": [
    {
     "data": {
      "text/plain": [
       "m     2805.0\n",
       "n    39371.0\n",
       "Name: Miles, dtype: float64"
      ]
     },
     "execution_count": 36,
     "metadata": {},
     "output_type": "execute_result"
    }
   ],
   "source": [
    "test.loc[index label/mask/:, column label/mask/:]\n",
    "test.iloc[index pos/mask/:, column pos/mask/:]"
   ]
  },
  {
   "cell_type": "code",
   "execution_count": null,
   "metadata": {},
   "outputs": [],
   "source": [
    "df.loc['m', 'a']"
   ]
  },
  {
   "cell_type": "code",
   "execution_count": 18,
   "metadata": {},
   "outputs": [
    {
     "data": {
      "text/plain": [
       "0      False\n",
       "1      False\n",
       "2      False\n",
       "3      False\n",
       "4      False\n",
       "       ...  \n",
       "451    False\n",
       "452    False\n",
       "453    False\n",
       "454    False\n",
       "455    False\n",
       "Name: Miles, Length: 456, dtype: bool"
      ]
     },
     "execution_count": 18,
     "metadata": {},
     "output_type": "execute_result"
    }
   ],
   "source": [
    "df_tire['Miles'].isnull()"
   ]
  },
  {
   "cell_type": "code",
   "execution_count": 23,
   "metadata": {},
   "outputs": [
    {
     "data": {
      "text/html": [
       "<div>\n",
       "<style scoped>\n",
       "    .dataframe tbody tr th:only-of-type {\n",
       "        vertical-align: middle;\n",
       "    }\n",
       "\n",
       "    .dataframe tbody tr th {\n",
       "        vertical-align: top;\n",
       "    }\n",
       "\n",
       "    .dataframe thead th {\n",
       "        text-align: right;\n",
       "    }\n",
       "</style>\n",
       "<table border=\"1\" class=\"dataframe\">\n",
       "  <thead>\n",
       "    <tr style=\"text-align: right;\">\n",
       "      <th></th>\n",
       "      <th>ID Number</th>\n",
       "      <th>Position on Automobile</th>\n",
       "      <th>Life of Tire (Months)</th>\n",
       "      <th>Tread Depth</th>\n",
       "      <th>Miles</th>\n",
       "    </tr>\n",
       "  </thead>\n",
       "  <tbody>\n",
       "    <tr>\n",
       "      <th>27</th>\n",
       "      <td>3354942</td>\n",
       "      <td>LF</td>\n",
       "      <td>17.1</td>\n",
       "      <td>8.5</td>\n",
       "      <td>NaN</td>\n",
       "    </tr>\n",
       "  </tbody>\n",
       "</table>\n",
       "</div>"
      ],
      "text/plain": [
       "    ID Number Position on Automobile  Life of Tire (Months)  Tread Depth  \\\n",
       "27    3354942                     LF                   17.1          8.5   \n",
       "\n",
       "    Miles  \n",
       "27    NaN  "
      ]
     },
     "execution_count": 23,
     "metadata": {},
     "output_type": "execute_result"
    }
   ],
   "source": [
    "# examine the record with Nan values\n",
    "df_tire.loc[df_tire['Miles'].isnull()]"
   ]
  },
  {
   "cell_type": "code",
   "execution_count": 19,
   "metadata": {},
   "outputs": [
    {
     "data": {
      "text/plain": [
       "0      False\n",
       "1      False\n",
       "2      False\n",
       "3      False\n",
       "4      False\n",
       "       ...  \n",
       "451    False\n",
       "452    False\n",
       "453    False\n",
       "454    False\n",
       "455    False\n",
       "Name: ID Number, Length: 456, dtype: bool"
      ]
     },
     "execution_count": 19,
     "metadata": {},
     "output_type": "execute_result"
    }
   ],
   "source": [
    "df_tire['ID Number'] == 3354942"
   ]
  },
  {
   "cell_type": "code",
   "execution_count": 25,
   "metadata": {},
   "outputs": [
    {
     "data": {
      "text/html": [
       "<div>\n",
       "<style scoped>\n",
       "    .dataframe tbody tr th:only-of-type {\n",
       "        vertical-align: middle;\n",
       "    }\n",
       "\n",
       "    .dataframe tbody tr th {\n",
       "        vertical-align: top;\n",
       "    }\n",
       "\n",
       "    .dataframe thead th {\n",
       "        text-align: right;\n",
       "    }\n",
       "</style>\n",
       "<table border=\"1\" class=\"dataframe\">\n",
       "  <thead>\n",
       "    <tr style=\"text-align: right;\">\n",
       "      <th></th>\n",
       "      <th>ID Number</th>\n",
       "      <th>Position on Automobile</th>\n",
       "      <th>Life of Tire (Months)</th>\n",
       "      <th>Tread Depth</th>\n",
       "      <th>Miles</th>\n",
       "    </tr>\n",
       "  </thead>\n",
       "  <tbody>\n",
       "    <tr>\n",
       "      <th>27</th>\n",
       "      <td>3354942</td>\n",
       "      <td>LF</td>\n",
       "      <td>17.1</td>\n",
       "      <td>8.5</td>\n",
       "      <td>NaN</td>\n",
       "    </tr>\n",
       "    <tr>\n",
       "      <th>133</th>\n",
       "      <td>3354942</td>\n",
       "      <td>RF</td>\n",
       "      <td>21.4</td>\n",
       "      <td>7.7</td>\n",
       "      <td>33254.0</td>\n",
       "    </tr>\n",
       "    <tr>\n",
       "      <th>178</th>\n",
       "      <td>3354942</td>\n",
       "      <td>RR</td>\n",
       "      <td>21.4</td>\n",
       "      <td>7.8</td>\n",
       "      <td>33254.0</td>\n",
       "    </tr>\n",
       "    <tr>\n",
       "      <th>276</th>\n",
       "      <td>3354942</td>\n",
       "      <td>LR</td>\n",
       "      <td>21.4</td>\n",
       "      <td>7.7</td>\n",
       "      <td>33254.0</td>\n",
       "    </tr>\n",
       "  </tbody>\n",
       "</table>\n",
       "</div>"
      ],
      "text/plain": [
       "     ID Number Position on Automobile  Life of Tire (Months)  Tread Depth  \\\n",
       "27     3354942                     LF                   17.1          8.5   \n",
       "133    3354942                     RF                   21.4          7.7   \n",
       "178    3354942                     RR                   21.4          7.8   \n",
       "276    3354942                     LR                   21.4          7.7   \n",
       "\n",
       "       Miles  \n",
       "27       NaN  \n",
       "133  33254.0  \n",
       "178  33254.0  \n",
       "276  33254.0  "
      ]
     },
     "execution_count": 25,
     "metadata": {},
     "output_type": "execute_result"
    }
   ],
   "source": [
    "# find information of other tires on the vehicle\n",
    "df_tire.loc[df_tire['ID Number'] == 3354942]"
   ]
  },
  {
   "cell_type": "markdown",
   "metadata": {},
   "source": [
    "# Identify outliers"
   ]
  },
  {
   "cell_type": "code",
   "execution_count": 21,
   "metadata": {},
   "outputs": [
    {
     "data": {
      "text/html": [
       "<div>\n",
       "<style scoped>\n",
       "    .dataframe tbody tr th:only-of-type {\n",
       "        vertical-align: middle;\n",
       "    }\n",
       "\n",
       "    .dataframe tbody tr th {\n",
       "        vertical-align: top;\n",
       "    }\n",
       "\n",
       "    .dataframe thead th {\n",
       "        text-align: right;\n",
       "    }\n",
       "</style>\n",
       "<table border=\"1\" class=\"dataframe\">\n",
       "  <thead>\n",
       "    <tr style=\"text-align: right;\">\n",
       "      <th></th>\n",
       "      <th>ID Number</th>\n",
       "      <th>Life of Tire (Months)</th>\n",
       "      <th>Tread Depth</th>\n",
       "      <th>Miles</th>\n",
       "    </tr>\n",
       "  </thead>\n",
       "  <tbody>\n",
       "    <tr>\n",
       "      <th>count</th>\n",
       "      <td>4.560000e+02</td>\n",
       "      <td>456.000000</td>\n",
       "      <td>456.000000</td>\n",
       "      <td>455.000000</td>\n",
       "    </tr>\n",
       "    <tr>\n",
       "      <th>mean</th>\n",
       "      <td>1.128225e+07</td>\n",
       "      <td>23.762281</td>\n",
       "      <td>7.640789</td>\n",
       "      <td>25440.215385</td>\n",
       "    </tr>\n",
       "    <tr>\n",
       "      <th>std</th>\n",
       "      <td>6.129054e+06</td>\n",
       "      <td>31.832032</td>\n",
       "      <td>2.505844</td>\n",
       "      <td>23600.209480</td>\n",
       "    </tr>\n",
       "    <tr>\n",
       "      <th>min</th>\n",
       "      <td>8.044100e+04</td>\n",
       "      <td>1.800000</td>\n",
       "      <td>0.000000</td>\n",
       "      <td>206.000000</td>\n",
       "    </tr>\n",
       "    <tr>\n",
       "      <th>25%</th>\n",
       "      <td>6.559652e+06</td>\n",
       "      <td>10.300000</td>\n",
       "      <td>6.400000</td>\n",
       "      <td>7299.000000</td>\n",
       "    </tr>\n",
       "    <tr>\n",
       "      <th>50%</th>\n",
       "      <td>1.126800e+07</td>\n",
       "      <td>17.200000</td>\n",
       "      <td>8.400000</td>\n",
       "      <td>19237.000000</td>\n",
       "    </tr>\n",
       "    <tr>\n",
       "      <th>75%</th>\n",
       "      <td>1.628981e+07</td>\n",
       "      <td>30.400000</td>\n",
       "      <td>9.500000</td>\n",
       "      <td>37419.000000</td>\n",
       "    </tr>\n",
       "    <tr>\n",
       "      <th>max</th>\n",
       "      <td>2.181757e+07</td>\n",
       "      <td>601.000000</td>\n",
       "      <td>16.700000</td>\n",
       "      <td>107237.000000</td>\n",
       "    </tr>\n",
       "  </tbody>\n",
       "</table>\n",
       "</div>"
      ],
      "text/plain": [
       "          ID Number  Life of Tire (Months)  Tread Depth          Miles\n",
       "count  4.560000e+02             456.000000   456.000000     455.000000\n",
       "mean   1.128225e+07              23.762281     7.640789   25440.215385\n",
       "std    6.129054e+06              31.832032     2.505844   23600.209480\n",
       "min    8.044100e+04               1.800000     0.000000     206.000000\n",
       "25%    6.559652e+06              10.300000     6.400000    7299.000000\n",
       "50%    1.126800e+07              17.200000     8.400000   19237.000000\n",
       "75%    1.628981e+07              30.400000     9.500000   37419.000000\n",
       "max    2.181757e+07             601.000000    16.700000  107237.000000"
      ]
     },
     "execution_count": 21,
     "metadata": {},
     "output_type": "execute_result"
    }
   ],
   "source": [
    "# describe the dataset\n",
    "df_tire.describe()"
   ]
  },
  {
   "cell_type": "code",
   "execution_count": 52,
   "metadata": {},
   "outputs": [
    {
     "data": {
      "text/plain": [
       "0      False\n",
       "1      False\n",
       "2      False\n",
       "3      False\n",
       "4      False\n",
       "       ...  \n",
       "451    False\n",
       "452    False\n",
       "453    False\n",
       "454    False\n",
       "455    False\n",
       "Name: Life of Tire (Months), Length: 456, dtype: bool"
      ]
     },
     "execution_count": 52,
     "metadata": {},
     "output_type": "execute_result"
    }
   ],
   "source": [
    "mask = (df_tire['Life of Tire (Months)'] == 601)\n",
    "mask"
   ]
  },
  {
   "cell_type": "code",
   "execution_count": null,
   "metadata": {},
   "outputs": [],
   "source": []
  },
  {
   "cell_type": "code",
   "execution_count": 54,
   "metadata": {},
   "outputs": [
    {
     "data": {
      "text/html": [
       "<div>\n",
       "<style scoped>\n",
       "    .dataframe tbody tr th:only-of-type {\n",
       "        vertical-align: middle;\n",
       "    }\n",
       "\n",
       "    .dataframe tbody tr th {\n",
       "        vertical-align: top;\n",
       "    }\n",
       "\n",
       "    .dataframe thead th {\n",
       "        text-align: right;\n",
       "    }\n",
       "</style>\n",
       "<table border=\"1\" class=\"dataframe\">\n",
       "  <thead>\n",
       "    <tr style=\"text-align: right;\">\n",
       "      <th></th>\n",
       "      <th>ID Number</th>\n",
       "      <th>Position on Automobile</th>\n",
       "      <th>Life of Tire (Months)</th>\n",
       "      <th>Tread Depth</th>\n",
       "      <th>Miles</th>\n",
       "    </tr>\n",
       "  </thead>\n",
       "  <tbody>\n",
       "    <tr>\n",
       "      <th>446</th>\n",
       "      <td>8696859</td>\n",
       "      <td>LR</td>\n",
       "      <td>601.0</td>\n",
       "      <td>2.0</td>\n",
       "      <td>26129.0</td>\n",
       "    </tr>\n",
       "  </tbody>\n",
       "</table>\n",
       "</div>"
      ],
      "text/plain": [
       "     ID Number Position on Automobile  Life of Tire (Months)  Tread Depth  \\\n",
       "446    8696859                     LR                  601.0          2.0   \n",
       "\n",
       "       Miles  \n",
       "446  26129.0  "
      ]
     },
     "execution_count": 54,
     "metadata": {},
     "output_type": "execute_result"
    }
   ],
   "source": [
    "df_tire.loc[mask, :]"
   ]
  },
  {
   "cell_type": "code",
   "execution_count": 55,
   "metadata": {},
   "outputs": [
    {
     "data": {
      "text/plain": [
       "0      False\n",
       "1      False\n",
       "2      False\n",
       "3      False\n",
       "4      False\n",
       "       ...  \n",
       "451    False\n",
       "452    False\n",
       "453    False\n",
       "454    False\n",
       "455    False\n",
       "Name: ID Number, Length: 456, dtype: bool"
      ]
     },
     "execution_count": 55,
     "metadata": {},
     "output_type": "execute_result"
    }
   ],
   "source": [
    "mask = (df_tire['ID Number'] == 8696859)\n",
    "mask"
   ]
  },
  {
   "cell_type": "code",
   "execution_count": 57,
   "metadata": {},
   "outputs": [
    {
     "data": {
      "text/html": [
       "<div>\n",
       "<style scoped>\n",
       "    .dataframe tbody tr th:only-of-type {\n",
       "        vertical-align: middle;\n",
       "    }\n",
       "\n",
       "    .dataframe tbody tr th {\n",
       "        vertical-align: top;\n",
       "    }\n",
       "\n",
       "    .dataframe thead th {\n",
       "        text-align: right;\n",
       "    }\n",
       "</style>\n",
       "<table border=\"1\" class=\"dataframe\">\n",
       "  <thead>\n",
       "    <tr style=\"text-align: right;\">\n",
       "      <th></th>\n",
       "      <th>ID Number</th>\n",
       "      <th>Position on Automobile</th>\n",
       "      <th>Life of Tire (Months)</th>\n",
       "      <th>Tread Depth</th>\n",
       "      <th>Miles</th>\n",
       "    </tr>\n",
       "  </thead>\n",
       "  <tbody>\n",
       "    <tr>\n",
       "      <th>8</th>\n",
       "      <td>8696859</td>\n",
       "      <td>LF</td>\n",
       "      <td>60.1</td>\n",
       "      <td>2.0</td>\n",
       "      <td>26129.0</td>\n",
       "    </tr>\n",
       "    <tr>\n",
       "      <th>167</th>\n",
       "      <td>8696859</td>\n",
       "      <td>RF</td>\n",
       "      <td>60.1</td>\n",
       "      <td>2.0</td>\n",
       "      <td>26129.0</td>\n",
       "    </tr>\n",
       "    <tr>\n",
       "      <th>432</th>\n",
       "      <td>8696859</td>\n",
       "      <td>RR</td>\n",
       "      <td>60.1</td>\n",
       "      <td>2.0</td>\n",
       "      <td>26129.0</td>\n",
       "    </tr>\n",
       "    <tr>\n",
       "      <th>446</th>\n",
       "      <td>8696859</td>\n",
       "      <td>LR</td>\n",
       "      <td>601.0</td>\n",
       "      <td>2.0</td>\n",
       "      <td>26129.0</td>\n",
       "    </tr>\n",
       "  </tbody>\n",
       "</table>\n",
       "</div>"
      ],
      "text/plain": [
       "     ID Number Position on Automobile  Life of Tire (Months)  Tread Depth  \\\n",
       "8      8696859                     LF                   60.1          2.0   \n",
       "167    8696859                     RF                   60.1          2.0   \n",
       "432    8696859                     RR                   60.1          2.0   \n",
       "446    8696859                     LR                  601.0          2.0   \n",
       "\n",
       "       Miles  \n",
       "8    26129.0  \n",
       "167  26129.0  \n",
       "432  26129.0  \n",
       "446  26129.0  "
      ]
     },
     "execution_count": 57,
     "metadata": {},
     "output_type": "execute_result"
    }
   ],
   "source": [
    "df_tire.loc[mask, :]"
   ]
  },
  {
   "cell_type": "code",
   "execution_count": 59,
   "metadata": {},
   "outputs": [
    {
     "data": {
      "text/html": [
       "<div>\n",
       "<style scoped>\n",
       "    .dataframe tbody tr th:only-of-type {\n",
       "        vertical-align: middle;\n",
       "    }\n",
       "\n",
       "    .dataframe tbody tr th {\n",
       "        vertical-align: top;\n",
       "    }\n",
       "\n",
       "    .dataframe thead th {\n",
       "        text-align: right;\n",
       "    }\n",
       "</style>\n",
       "<table border=\"1\" class=\"dataframe\">\n",
       "  <thead>\n",
       "    <tr style=\"text-align: right;\">\n",
       "      <th></th>\n",
       "      <th>ID Number</th>\n",
       "      <th>Position on Automobile</th>\n",
       "      <th>Life of Tire (Months)</th>\n",
       "      <th>Tread Depth</th>\n",
       "      <th>Miles</th>\n",
       "    </tr>\n",
       "  </thead>\n",
       "  <tbody>\n",
       "    <tr>\n",
       "      <th>8</th>\n",
       "      <td>8696859</td>\n",
       "      <td>LF</td>\n",
       "      <td>20.0</td>\n",
       "      <td>2.0</td>\n",
       "      <td>26129.0</td>\n",
       "    </tr>\n",
       "    <tr>\n",
       "      <th>167</th>\n",
       "      <td>8696859</td>\n",
       "      <td>RF</td>\n",
       "      <td>20.0</td>\n",
       "      <td>2.0</td>\n",
       "      <td>26129.0</td>\n",
       "    </tr>\n",
       "    <tr>\n",
       "      <th>432</th>\n",
       "      <td>8696859</td>\n",
       "      <td>RR</td>\n",
       "      <td>20.0</td>\n",
       "      <td>2.0</td>\n",
       "      <td>26129.0</td>\n",
       "    </tr>\n",
       "    <tr>\n",
       "      <th>446</th>\n",
       "      <td>8696859</td>\n",
       "      <td>LR</td>\n",
       "      <td>20.0</td>\n",
       "      <td>2.0</td>\n",
       "      <td>26129.0</td>\n",
       "    </tr>\n",
       "  </tbody>\n",
       "</table>\n",
       "</div>"
      ],
      "text/plain": [
       "     ID Number Position on Automobile  Life of Tire (Months)  Tread Depth  \\\n",
       "8      8696859                     LF                   20.0          2.0   \n",
       "167    8696859                     RF                   20.0          2.0   \n",
       "432    8696859                     RR                   20.0          2.0   \n",
       "446    8696859                     LR                   20.0          2.0   \n",
       "\n",
       "       Miles  \n",
       "8    26129.0  \n",
       "167  26129.0  \n",
       "432  26129.0  \n",
       "446  26129.0  "
      ]
     },
     "execution_count": 59,
     "metadata": {},
     "output_type": "execute_result"
    }
   ],
   "source": [
    "df_tire.loc[mask, 'Life of Tire (Months)'] = 20\n",
    "df_tire.loc[mask, :]"
   ]
  },
  {
   "cell_type": "markdown",
   "metadata": {},
   "source": [
    "The mean and standard deviation for life of tire, tread depth, and miles are reasonable. But the maximum of life of tire if not reasonable."
   ]
  },
  {
   "cell_type": "code",
   "execution_count": null,
   "metadata": {},
   "outputs": [],
   "source": [
    "df.loc[index label/mask/: (row), column label/mask/: (col)]\n",
    "df.iloc[index position (0..) / : (row), column position (0...) /: (column)]"
   ]
  },
  {
   "cell_type": "code",
   "execution_count": 29,
   "metadata": {},
   "outputs": [
    {
     "data": {
      "text/html": [
       "<div>\n",
       "<style scoped>\n",
       "    .dataframe tbody tr th:only-of-type {\n",
       "        vertical-align: middle;\n",
       "    }\n",
       "\n",
       "    .dataframe tbody tr th {\n",
       "        vertical-align: top;\n",
       "    }\n",
       "\n",
       "    .dataframe thead th {\n",
       "        text-align: right;\n",
       "    }\n",
       "</style>\n",
       "<table border=\"1\" class=\"dataframe\">\n",
       "  <thead>\n",
       "    <tr style=\"text-align: right;\">\n",
       "      <th></th>\n",
       "      <th>ID Number</th>\n",
       "      <th>Position on Automobile</th>\n",
       "      <th>Life of Tire (Months)</th>\n",
       "      <th>Tread Depth</th>\n",
       "      <th>Miles</th>\n",
       "    </tr>\n",
       "  </thead>\n",
       "  <tbody>\n",
       "    <tr>\n",
       "      <th>1</th>\n",
       "      <td>21678308</td>\n",
       "      <td>LR</td>\n",
       "      <td>17.3</td>\n",
       "      <td>8.3</td>\n",
       "      <td>39371.0</td>\n",
       "    </tr>\n",
       "    <tr>\n",
       "      <th>2</th>\n",
       "      <td>18414311</td>\n",
       "      <td>RR</td>\n",
       "      <td>16.5</td>\n",
       "      <td>8.6</td>\n",
       "      <td>13367.0</td>\n",
       "    </tr>\n",
       "    <tr>\n",
       "      <th>3</th>\n",
       "      <td>19778103</td>\n",
       "      <td>RR</td>\n",
       "      <td>8.2</td>\n",
       "      <td>9.8</td>\n",
       "      <td>1931.0</td>\n",
       "    </tr>\n",
       "    <tr>\n",
       "      <th>4</th>\n",
       "      <td>16355454</td>\n",
       "      <td>RR</td>\n",
       "      <td>13.7</td>\n",
       "      <td>8.9</td>\n",
       "      <td>23992.0</td>\n",
       "    </tr>\n",
       "    <tr>\n",
       "      <th>5</th>\n",
       "      <td>8952817</td>\n",
       "      <td>LR</td>\n",
       "      <td>52.8</td>\n",
       "      <td>3.0</td>\n",
       "      <td>48961.0</td>\n",
       "    </tr>\n",
       "    <tr>\n",
       "      <th>6</th>\n",
       "      <td>6559652</td>\n",
       "      <td>RR</td>\n",
       "      <td>14.7</td>\n",
       "      <td>8.8</td>\n",
       "      <td>4585.0</td>\n",
       "    </tr>\n",
       "    <tr>\n",
       "      <th>7</th>\n",
       "      <td>16289814</td>\n",
       "      <td>LR</td>\n",
       "      <td>6.2</td>\n",
       "      <td>10.1</td>\n",
       "      <td>5221.0</td>\n",
       "    </tr>\n",
       "  </tbody>\n",
       "</table>\n",
       "</div>"
      ],
      "text/plain": [
       "   ID Number Position on Automobile  Life of Tire (Months)  Tread Depth  \\\n",
       "1   21678308                     LR                   17.3          8.3   \n",
       "2   18414311                     RR                   16.5          8.6   \n",
       "3   19778103                     RR                    8.2          9.8   \n",
       "4   16355454                     RR                   13.7          8.9   \n",
       "5    8952817                     LR                   52.8          3.0   \n",
       "6    6559652                     RR                   14.7          8.8   \n",
       "7   16289814                     LR                    6.2         10.1   \n",
       "\n",
       "     Miles  \n",
       "1  39371.0  \n",
       "2  13367.0  \n",
       "3   1931.0  \n",
       "4  23992.0  \n",
       "5  48961.0  \n",
       "6   4585.0  \n",
       "7   5221.0  "
      ]
     },
     "execution_count": 29,
     "metadata": {},
     "output_type": "execute_result"
    }
   ],
   "source": [
    "test = df_tire.iloc[[1,2,3,4,5,6,7], :]\n",
    "test"
   ]
  },
  {
   "cell_type": "code",
   "execution_count": 31,
   "metadata": {},
   "outputs": [
    {
     "data": {
      "text/html": [
       "<div>\n",
       "<style scoped>\n",
       "    .dataframe tbody tr th:only-of-type {\n",
       "        vertical-align: middle;\n",
       "    }\n",
       "\n",
       "    .dataframe tbody tr th {\n",
       "        vertical-align: top;\n",
       "    }\n",
       "\n",
       "    .dataframe thead th {\n",
       "        text-align: right;\n",
       "    }\n",
       "</style>\n",
       "<table border=\"1\" class=\"dataframe\">\n",
       "  <thead>\n",
       "    <tr style=\"text-align: right;\">\n",
       "      <th></th>\n",
       "      <th>ID Number</th>\n",
       "      <th>Position on Automobile</th>\n",
       "      <th>Life of Tire (Months)</th>\n",
       "      <th>Tread Depth</th>\n",
       "      <th>Miles</th>\n",
       "    </tr>\n",
       "  </thead>\n",
       "  <tbody>\n",
       "    <tr>\n",
       "      <th>a</th>\n",
       "      <td>21678308</td>\n",
       "      <td>LR</td>\n",
       "      <td>17.3</td>\n",
       "      <td>8.3</td>\n",
       "      <td>39371.0</td>\n",
       "    </tr>\n",
       "    <tr>\n",
       "      <th>b</th>\n",
       "      <td>18414311</td>\n",
       "      <td>RR</td>\n",
       "      <td>16.5</td>\n",
       "      <td>8.6</td>\n",
       "      <td>13367.0</td>\n",
       "    </tr>\n",
       "    <tr>\n",
       "      <th>c</th>\n",
       "      <td>19778103</td>\n",
       "      <td>RR</td>\n",
       "      <td>8.2</td>\n",
       "      <td>9.8</td>\n",
       "      <td>1931.0</td>\n",
       "    </tr>\n",
       "    <tr>\n",
       "      <th>d</th>\n",
       "      <td>16355454</td>\n",
       "      <td>RR</td>\n",
       "      <td>13.7</td>\n",
       "      <td>8.9</td>\n",
       "      <td>23992.0</td>\n",
       "    </tr>\n",
       "    <tr>\n",
       "      <th>e</th>\n",
       "      <td>8952817</td>\n",
       "      <td>LR</td>\n",
       "      <td>52.8</td>\n",
       "      <td>3.0</td>\n",
       "      <td>48961.0</td>\n",
       "    </tr>\n",
       "    <tr>\n",
       "      <th>f</th>\n",
       "      <td>6559652</td>\n",
       "      <td>RR</td>\n",
       "      <td>14.7</td>\n",
       "      <td>8.8</td>\n",
       "      <td>4585.0</td>\n",
       "    </tr>\n",
       "    <tr>\n",
       "      <th>g</th>\n",
       "      <td>16289814</td>\n",
       "      <td>LR</td>\n",
       "      <td>6.2</td>\n",
       "      <td>10.1</td>\n",
       "      <td>5221.0</td>\n",
       "    </tr>\n",
       "  </tbody>\n",
       "</table>\n",
       "</div>"
      ],
      "text/plain": [
       "   ID Number Position on Automobile  Life of Tire (Months)  Tread Depth  \\\n",
       "a   21678308                     LR                   17.3          8.3   \n",
       "b   18414311                     RR                   16.5          8.6   \n",
       "c   19778103                     RR                    8.2          9.8   \n",
       "d   16355454                     RR                   13.7          8.9   \n",
       "e    8952817                     LR                   52.8          3.0   \n",
       "f    6559652                     RR                   14.7          8.8   \n",
       "g   16289814                     LR                    6.2         10.1   \n",
       "\n",
       "     Miles  \n",
       "a  39371.0  \n",
       "b  13367.0  \n",
       "c   1931.0  \n",
       "d  23992.0  \n",
       "e  48961.0  \n",
       "f   4585.0  \n",
       "g   5221.0  "
      ]
     },
     "execution_count": 31,
     "metadata": {},
     "output_type": "execute_result"
    }
   ],
   "source": [
    "test.index = ['a','b','c','d','e','f','g']\n",
    "test"
   ]
  },
  {
   "cell_type": "code",
   "execution_count": 34,
   "metadata": {},
   "outputs": [
    {
     "data": {
      "text/html": [
       "<div>\n",
       "<style scoped>\n",
       "    .dataframe tbody tr th:only-of-type {\n",
       "        vertical-align: middle;\n",
       "    }\n",
       "\n",
       "    .dataframe tbody tr th {\n",
       "        vertical-align: top;\n",
       "    }\n",
       "\n",
       "    .dataframe thead th {\n",
       "        text-align: right;\n",
       "    }\n",
       "</style>\n",
       "<table border=\"1\" class=\"dataframe\">\n",
       "  <thead>\n",
       "    <tr style=\"text-align: right;\">\n",
       "      <th></th>\n",
       "      <th>ID Number</th>\n",
       "      <th>Position on Automobile</th>\n",
       "      <th>Life of Tire (Months)</th>\n",
       "    </tr>\n",
       "  </thead>\n",
       "  <tbody>\n",
       "    <tr>\n",
       "      <th>a</th>\n",
       "      <td>21678308</td>\n",
       "      <td>LR</td>\n",
       "      <td>17.3</td>\n",
       "    </tr>\n",
       "    <tr>\n",
       "      <th>b</th>\n",
       "      <td>18414311</td>\n",
       "      <td>RR</td>\n",
       "      <td>16.5</td>\n",
       "    </tr>\n",
       "    <tr>\n",
       "      <th>c</th>\n",
       "      <td>19778103</td>\n",
       "      <td>RR</td>\n",
       "      <td>8.2</td>\n",
       "    </tr>\n",
       "  </tbody>\n",
       "</table>\n",
       "</div>"
      ],
      "text/plain": [
       "   ID Number Position on Automobile  Life of Tire (Months)\n",
       "a   21678308                     LR                   17.3\n",
       "b   18414311                     RR                   16.5\n",
       "c   19778103                     RR                    8.2"
      ]
     },
     "execution_count": 34,
     "metadata": {},
     "output_type": "execute_result"
    }
   ],
   "source": [
    "test.iloc[[0,1,2], [0,1,2]]"
   ]
  },
  {
   "cell_type": "code",
   "execution_count": 33,
   "metadata": {},
   "outputs": [
    {
     "name": "stdout",
     "output_type": "stream",
     "text": [
      "446    8696859\n",
      "Name: ID Number, dtype: int64 <class 'pandas.core.series.Series'>\n"
     ]
    },
    {
     "data": {
      "text/html": [
       "<div>\n",
       "<style scoped>\n",
       "    .dataframe tbody tr th:only-of-type {\n",
       "        vertical-align: middle;\n",
       "    }\n",
       "\n",
       "    .dataframe tbody tr th {\n",
       "        vertical-align: top;\n",
       "    }\n",
       "\n",
       "    .dataframe thead th {\n",
       "        text-align: right;\n",
       "    }\n",
       "</style>\n",
       "<table border=\"1\" class=\"dataframe\">\n",
       "  <thead>\n",
       "    <tr style=\"text-align: right;\">\n",
       "      <th></th>\n",
       "      <th>ID Number</th>\n",
       "      <th>Position on Automobile</th>\n",
       "      <th>Life of Tire (Months)</th>\n",
       "      <th>Tread Depth</th>\n",
       "      <th>Miles</th>\n",
       "    </tr>\n",
       "  </thead>\n",
       "  <tbody>\n",
       "    <tr>\n",
       "      <th>8</th>\n",
       "      <td>8696859</td>\n",
       "      <td>LF</td>\n",
       "      <td>60.1</td>\n",
       "      <td>2.0</td>\n",
       "      <td>26129.0</td>\n",
       "    </tr>\n",
       "    <tr>\n",
       "      <th>167</th>\n",
       "      <td>8696859</td>\n",
       "      <td>RF</td>\n",
       "      <td>60.1</td>\n",
       "      <td>2.0</td>\n",
       "      <td>26129.0</td>\n",
       "    </tr>\n",
       "    <tr>\n",
       "      <th>432</th>\n",
       "      <td>8696859</td>\n",
       "      <td>RR</td>\n",
       "      <td>60.1</td>\n",
       "      <td>2.0</td>\n",
       "      <td>26129.0</td>\n",
       "    </tr>\n",
       "    <tr>\n",
       "      <th>446</th>\n",
       "      <td>8696859</td>\n",
       "      <td>LR</td>\n",
       "      <td>601.0</td>\n",
       "      <td>2.0</td>\n",
       "      <td>26129.0</td>\n",
       "    </tr>\n",
       "  </tbody>\n",
       "</table>\n",
       "</div>"
      ],
      "text/plain": [
       "     ID Number Position on Automobile  Life of Tire (Months)  Tread Depth  \\\n",
       "8      8696859                     LF                   60.1          2.0   \n",
       "167    8696859                     RF                   60.1          2.0   \n",
       "432    8696859                     RR                   60.1          2.0   \n",
       "446    8696859                     LR                  601.0          2.0   \n",
       "\n",
       "       Miles  \n",
       "8    26129.0  \n",
       "167  26129.0  \n",
       "432  26129.0  \n",
       "446  26129.0  "
      ]
     },
     "execution_count": 33,
     "metadata": {},
     "output_type": "execute_result"
    }
   ],
   "source": [
    "# find the vehicle where life of tire is 601 months.\n",
    "veh_id = df_tire.loc[df_tire['Life of Tire (Months)'] == 601, 'ID Number']\n",
    "print(veh_id, type(veh_id))\n",
    "\n",
    "# veh_id = veh_id.tolist()[0]\n",
    "df_tire.loc[df_tire['ID Number'] == 8696859, :]"
   ]
  },
  {
   "cell_type": "code",
   "execution_count": 34,
   "metadata": {},
   "outputs": [
    {
     "data": {
      "text/plain": [
       "<matplotlib.axes._subplots.AxesSubplot at 0x1340539d0>"
      ]
     },
     "execution_count": 34,
     "metadata": {},
     "output_type": "execute_result"
    },
    {
     "data": {
      "image/png": "[encoded data removed]",
      "text/plain": [
       "<Figure size 432x288 with 1 Axes>"
      ]
     },
     "metadata": {
      "needs_background": "light"
     },
     "output_type": "display_data"
    }
   ],
   "source": [
    "# any other abnormal life of tire?\n",
    "df_tire['Life of Tire (Months)'].hist()"
   ]
  },
  {
   "cell_type": "code",
   "execution_count": 61,
   "metadata": {},
   "outputs": [
    {
     "data": {
      "text/plain": [
       "0      False\n",
       "1      False\n",
       "2      False\n",
       "3      False\n",
       "4      False\n",
       "       ...  \n",
       "451    False\n",
       "452    False\n",
       "453    False\n",
       "454    False\n",
       "455    False\n",
       "Name: Life of Tire (Months), Length: 456, dtype: bool"
      ]
     },
     "execution_count": 61,
     "metadata": {},
     "output_type": "execute_result"
    }
   ],
   "source": [
    "mask = (df_tire['Life of Tire (Months)'] > 100)\n",
    "mask"
   ]
  },
  {
   "cell_type": "code",
   "execution_count": 62,
   "metadata": {},
   "outputs": [
    {
     "data": {
      "text/html": [
       "<div>\n",
       "<style scoped>\n",
       "    .dataframe tbody tr th:only-of-type {\n",
       "        vertical-align: middle;\n",
       "    }\n",
       "\n",
       "    .dataframe tbody tr th {\n",
       "        vertical-align: top;\n",
       "    }\n",
       "\n",
       "    .dataframe thead th {\n",
       "        text-align: right;\n",
       "    }\n",
       "</style>\n",
       "<table border=\"1\" class=\"dataframe\">\n",
       "  <thead>\n",
       "    <tr style=\"text-align: right;\">\n",
       "      <th></th>\n",
       "      <th>ID Number</th>\n",
       "      <th>Position on Automobile</th>\n",
       "      <th>Life of Tire (Months)</th>\n",
       "      <th>Tread Depth</th>\n",
       "      <th>Miles</th>\n",
       "    </tr>\n",
       "  </thead>\n",
       "  <tbody>\n",
       "    <tr>\n",
       "      <th>338</th>\n",
       "      <td>2122934</td>\n",
       "      <td>LR</td>\n",
       "      <td>111.0</td>\n",
       "      <td>9.3</td>\n",
       "      <td>21000.0</td>\n",
       "    </tr>\n",
       "  </tbody>\n",
       "</table>\n",
       "</div>"
      ],
      "text/plain": [
       "     ID Number Position on Automobile  Life of Tire (Months)  Tread Depth  \\\n",
       "338    2122934                     LR                  111.0          9.3   \n",
       "\n",
       "       Miles  \n",
       "338  21000.0  "
      ]
     },
     "execution_count": 62,
     "metadata": {},
     "output_type": "execute_result"
    }
   ],
   "source": [
    "df_tire.loc[mask, :]"
   ]
  },
  {
   "cell_type": "code",
   "execution_count": 35,
   "metadata": {},
   "outputs": [
    {
     "data": {
      "text/html": [
       "<div>\n",
       "<style scoped>\n",
       "    .dataframe tbody tr th:only-of-type {\n",
       "        vertical-align: middle;\n",
       "    }\n",
       "\n",
       "    .dataframe tbody tr th {\n",
       "        vertical-align: top;\n",
       "    }\n",
       "\n",
       "    .dataframe thead th {\n",
       "        text-align: right;\n",
       "    }\n",
       "</style>\n",
       "<table border=\"1\" class=\"dataframe\">\n",
       "  <thead>\n",
       "    <tr style=\"text-align: right;\">\n",
       "      <th></th>\n",
       "      <th>ID Number</th>\n",
       "      <th>Position on Automobile</th>\n",
       "      <th>Life of Tire (Months)</th>\n",
       "      <th>Tread Depth</th>\n",
       "      <th>Miles</th>\n",
       "    </tr>\n",
       "  </thead>\n",
       "  <tbody>\n",
       "    <tr>\n",
       "      <th>338</th>\n",
       "      <td>2122934</td>\n",
       "      <td>LR</td>\n",
       "      <td>111.0</td>\n",
       "      <td>9.3</td>\n",
       "      <td>21000.0</td>\n",
       "    </tr>\n",
       "    <tr>\n",
       "      <th>446</th>\n",
       "      <td>8696859</td>\n",
       "      <td>LR</td>\n",
       "      <td>601.0</td>\n",
       "      <td>2.0</td>\n",
       "      <td>26129.0</td>\n",
       "    </tr>\n",
       "  </tbody>\n",
       "</table>\n",
       "</div>"
      ],
      "text/plain": [
       "     ID Number Position on Automobile  Life of Tire (Months)  Tread Depth  \\\n",
       "338    2122934                     LR                  111.0          9.3   \n",
       "446    8696859                     LR                  601.0          2.0   \n",
       "\n",
       "       Miles  \n",
       "338  21000.0  \n",
       "446  26129.0  "
      ]
     },
     "execution_count": 35,
     "metadata": {},
     "output_type": "execute_result"
    }
   ],
   "source": [
    "# find records with life of tire longer than 100 months\n",
    "df_tire.loc[df_tire['Life of Tire (Months)'] > 100, :]"
   ]
  },
  {
   "cell_type": "code",
   "execution_count": 63,
   "metadata": {},
   "outputs": [
    {
     "data": {
      "text/html": [
       "<div>\n",
       "<style scoped>\n",
       "    .dataframe tbody tr th:only-of-type {\n",
       "        vertical-align: middle;\n",
       "    }\n",
       "\n",
       "    .dataframe tbody tr th {\n",
       "        vertical-align: top;\n",
       "    }\n",
       "\n",
       "    .dataframe thead th {\n",
       "        text-align: right;\n",
       "    }\n",
       "</style>\n",
       "<table border=\"1\" class=\"dataframe\">\n",
       "  <thead>\n",
       "    <tr style=\"text-align: right;\">\n",
       "      <th></th>\n",
       "      <th>ID Number</th>\n",
       "      <th>Position on Automobile</th>\n",
       "      <th>Life of Tire (Months)</th>\n",
       "      <th>Tread Depth</th>\n",
       "      <th>Miles</th>\n",
       "    </tr>\n",
       "  </thead>\n",
       "  <tbody>\n",
       "    <tr>\n",
       "      <th>93</th>\n",
       "      <td>2122934</td>\n",
       "      <td>RF</td>\n",
       "      <td>11.1</td>\n",
       "      <td>9.4</td>\n",
       "      <td>21000.0</td>\n",
       "    </tr>\n",
       "    <tr>\n",
       "      <th>169</th>\n",
       "      <td>2122934</td>\n",
       "      <td>RR</td>\n",
       "      <td>11.1</td>\n",
       "      <td>9.3</td>\n",
       "      <td>21000.0</td>\n",
       "    </tr>\n",
       "    <tr>\n",
       "      <th>338</th>\n",
       "      <td>2122934</td>\n",
       "      <td>LR</td>\n",
       "      <td>111.0</td>\n",
       "      <td>9.3</td>\n",
       "      <td>21000.0</td>\n",
       "    </tr>\n",
       "    <tr>\n",
       "      <th>453</th>\n",
       "      <td>2122934</td>\n",
       "      <td>LF</td>\n",
       "      <td>11.1</td>\n",
       "      <td>9.3</td>\n",
       "      <td>21000.0</td>\n",
       "    </tr>\n",
       "  </tbody>\n",
       "</table>\n",
       "</div>"
      ],
      "text/plain": [
       "     ID Number Position on Automobile  Life of Tire (Months)  Tread Depth  \\\n",
       "93     2122934                     RF                   11.1          9.4   \n",
       "169    2122934                     RR                   11.1          9.3   \n",
       "338    2122934                     LR                  111.0          9.3   \n",
       "453    2122934                     LF                   11.1          9.3   \n",
       "\n",
       "       Miles  \n",
       "93   21000.0  \n",
       "169  21000.0  \n",
       "338  21000.0  \n",
       "453  21000.0  "
      ]
     },
     "execution_count": 63,
     "metadata": {},
     "output_type": "execute_result"
    }
   ],
   "source": [
    "df_tire[df_tire['ID Number'] == 2122934]"
   ]
  },
  {
   "cell_type": "code",
   "execution_count": 40,
   "metadata": {},
   "outputs": [
    {
     "data": {
      "text/html": [
       "<div>\n",
       "<style scoped>\n",
       "    .dataframe tbody tr th:only-of-type {\n",
       "        vertical-align: middle;\n",
       "    }\n",
       "\n",
       "    .dataframe tbody tr th {\n",
       "        vertical-align: top;\n",
       "    }\n",
       "\n",
       "    .dataframe thead th {\n",
       "        text-align: right;\n",
       "    }\n",
       "</style>\n",
       "<table border=\"1\" class=\"dataframe\">\n",
       "  <thead>\n",
       "    <tr style=\"text-align: right;\">\n",
       "      <th></th>\n",
       "      <th>ID Number</th>\n",
       "      <th>Position on Automobile</th>\n",
       "      <th>Life of Tire (Months)</th>\n",
       "      <th>Tread Depth</th>\n",
       "      <th>Miles</th>\n",
       "    </tr>\n",
       "  </thead>\n",
       "  <tbody>\n",
       "    <tr>\n",
       "      <th>8</th>\n",
       "      <td>8696859</td>\n",
       "      <td>LF</td>\n",
       "      <td>60.1</td>\n",
       "      <td>2.0</td>\n",
       "      <td>26129.0</td>\n",
       "    </tr>\n",
       "    <tr>\n",
       "      <th>93</th>\n",
       "      <td>2122934</td>\n",
       "      <td>RF</td>\n",
       "      <td>11.1</td>\n",
       "      <td>9.4</td>\n",
       "      <td>21000.0</td>\n",
       "    </tr>\n",
       "    <tr>\n",
       "      <th>167</th>\n",
       "      <td>8696859</td>\n",
       "      <td>RF</td>\n",
       "      <td>60.1</td>\n",
       "      <td>2.0</td>\n",
       "      <td>26129.0</td>\n",
       "    </tr>\n",
       "    <tr>\n",
       "      <th>169</th>\n",
       "      <td>2122934</td>\n",
       "      <td>RR</td>\n",
       "      <td>11.1</td>\n",
       "      <td>9.3</td>\n",
       "      <td>21000.0</td>\n",
       "    </tr>\n",
       "    <tr>\n",
       "      <th>338</th>\n",
       "      <td>2122934</td>\n",
       "      <td>LR</td>\n",
       "      <td>11.1</td>\n",
       "      <td>9.3</td>\n",
       "      <td>21000.0</td>\n",
       "    </tr>\n",
       "    <tr>\n",
       "      <th>432</th>\n",
       "      <td>8696859</td>\n",
       "      <td>RR</td>\n",
       "      <td>60.1</td>\n",
       "      <td>2.0</td>\n",
       "      <td>26129.0</td>\n",
       "    </tr>\n",
       "    <tr>\n",
       "      <th>446</th>\n",
       "      <td>8696859</td>\n",
       "      <td>LR</td>\n",
       "      <td>60.1</td>\n",
       "      <td>2.0</td>\n",
       "      <td>26129.0</td>\n",
       "    </tr>\n",
       "    <tr>\n",
       "      <th>453</th>\n",
       "      <td>2122934</td>\n",
       "      <td>LF</td>\n",
       "      <td>11.1</td>\n",
       "      <td>9.3</td>\n",
       "      <td>21000.0</td>\n",
       "    </tr>\n",
       "  </tbody>\n",
       "</table>\n",
       "</div>"
      ],
      "text/plain": [
       "     ID Number Position on Automobile  Life of Tire (Months)  Tread Depth  \\\n",
       "8      8696859                     LF                   60.1          2.0   \n",
       "93     2122934                     RF                   11.1          9.4   \n",
       "167    8696859                     RF                   60.1          2.0   \n",
       "169    2122934                     RR                   11.1          9.3   \n",
       "338    2122934                     LR                   11.1          9.3   \n",
       "432    8696859                     RR                   60.1          2.0   \n",
       "446    8696859                     LR                   60.1          2.0   \n",
       "453    2122934                     LF                   11.1          9.3   \n",
       "\n",
       "       Miles  \n",
       "8    26129.0  \n",
       "93   21000.0  \n",
       "167  26129.0  \n",
       "169  21000.0  \n",
       "338  21000.0  \n",
       "432  26129.0  \n",
       "446  26129.0  \n",
       "453  21000.0  "
      ]
     },
     "execution_count": 40,
     "metadata": {},
     "output_type": "execute_result"
    }
   ],
   "source": [
    "# correct the two errors with wrong life of tire\n",
    "df_tire.loc[df_tire['ID Number'] == 2122934, 'Life of Tire (Months)'] = 11.1\n",
    "df_tire.loc[df_tire['ID Number'] == 8696859, 'Life of Tire (Months)'] = 60.1\n",
    "df_tire.loc[df_tire['ID Number'].isin([2122934, 8696859])]"
   ]
  },
  {
   "cell_type": "code",
   "execution_count": 64,
   "metadata": {},
   "outputs": [
    {
     "data": {
      "text/plain": [
       "<matplotlib.collections.PathCollection at 0x145d77f10>"
      ]
     },
     "execution_count": 64,
     "metadata": {},
     "output_type": "execute_result"
    },
    {
     "data": {
      "image/png": "[encoded data removed]",
      "text/plain": [
       "<Figure size 432x288 with 1 Axes>"
      ]
     },
     "metadata": {
      "needs_background": "light"
     },
     "output_type": "display_data"
    }
   ],
   "source": [
    "plt.scatter(df_tire['Tread Depth'], df_tire['Miles'])"
   ]
  },
  {
   "cell_type": "code",
   "execution_count": 2,
   "metadata": {},
   "outputs": [
    {
     "data": {
      "text/plain": [
       "43"
      ]
     },
     "execution_count": 2,
     "metadata": {},
     "output_type": "execute_result"
    }
   ],
   "source": [
    "def funca(a=0,b=3):\n",
    "    return a+b\n",
    "\n",
    "funca(a=40,b=3)"
   ]
  }
 ],
 "metadata": {
  "kernelspec": {
   "display_name": "Python 3",
   "language": "python",
   "name": "python3"
  },
  "language_info": {
   "codemirror_mode": {
    "name": "ipython",
    "version": 3
   },
   "file_extension": ".py",
   "mimetype": "text/x-python",
   "name": "python",
   "nbconvert_exporter": "python",
   "pygments_lexer": "ipython3",
   "version": "3.7.4"
  }
 },
 "nbformat": 4,
 "nbformat_minor": 4
}
